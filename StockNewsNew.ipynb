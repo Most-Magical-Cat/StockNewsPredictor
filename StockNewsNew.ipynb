{
 "cells": [
  {
   "cell_type": "code",
   "id": "initial_id",
   "metadata": {
    "collapsed": true,
    "ExecuteTime": {
     "end_time": "2024-12-08T19:30:09.080023Z",
     "start_time": "2024-12-08T19:30:07.104539Z"
    }
   },
   "source": [
    "import torch\n",
    "print(torch.version.cuda)\n",
    "\n",
    "\n",
    "if not torch.backends.mps.is_available():\n",
    "    if not torch.backends.mps.is_built():\n",
    "        print(\"MPS not available because the current PyTorch install was not \"\n",
    "              \"built with MPS enabled.\")\n",
    "    else:\n",
    "        print(\"MPS not available because the current MacOS version is not 12.3+ \"\n",
    "              \"and/or you do not have an MPS-enabled device on this machine.\")\n",
    "\n",
    "else:\n",
    "    mps_device = torch.device(\"mps\")\n",
    "device = 'cuda' if torch.cuda.is_available() else 'cpu'\n",
    "torch.device(device)\n",
    "print(f\"Using device: {device}\")"
   ],
   "outputs": [
    {
     "name": "stdout",
     "output_type": "stream",
     "text": [
      "11.8\n",
      "MPS not available because the current PyTorch install was not built with MPS enabled.\n",
      "Using device: cuda\n"
     ]
    }
   ],
   "execution_count": 1
  },
  {
   "metadata": {
    "ExecuteTime": {
     "end_time": "2024-12-08T19:30:21.095511Z",
     "start_time": "2024-12-08T19:30:10.109020Z"
    }
   },
   "cell_type": "code",
   "source": [
    "import pandas as pd\n",
    "news_data = pd.read_csv(\"news.csv\")\n",
    "# Melt the Top1 to Top25 columns into a single column\n",
    "melted_df = news_data.melt(\n",
    "    id_vars=[\"Label\"],  # Keep \"Label\" column as it is\n",
    "    value_vars=[f\"Top{i}\" for i in range(1, 26)],  # Columns to unpivot\n",
    "    var_name=\"Rank\",  # Optional: name for the melted variable column\n",
    "    value_name=\"News\"  # Name for the melted value column\n",
    ")\n",
    "\n",
    "# Drop the \"Rank\" column as it is no longer needed\n",
    "melted_df = melted_df.drop(columns=[\"Rank\"])\n",
    "\n",
    "# Drop rows where \"News\" is NaN or empty (optional)\n",
    "melted_df = melted_df.dropna(subset=[\"News\"])\n",
    "\n",
    "news_data = melted_df\n",
    "\n",
    "news_data = news_data.replace('b\\\"|b\\'|\\\\\\\\|\\\\\\\"', '', regex=True)\n",
    "\n",
    "news_data['News'] = news_data['News'].apply(lambda x:x.lower())\n",
    "\n",
    "import matplotlib.pyplot as plt\n",
    "import seaborn as sns\n",
    "\n",
    "plt.figure(figsize=(12, 4))\n",
    "sns.countplot(y=news_data['Label'])\n",
    "plt.title('Label')\n",
    "plt.show();\n",
    "news_data.shape\n",
    "\n",
    "from transformers import BertTokenizer\n",
    "\n",
    "# Tokenization\n",
    "tokenizer = BertTokenizer.from_pretrained('bert-base-uncased')\n",
    "\n",
    "# Tokenize the data\n",
    "def tokenize_function(text):\n",
    "    return tokenizer(text, padding='max_length', truncation=True, max_length=128)\n",
    "\n",
    "news_data['tokenized'] = news_data['News'].apply(tokenize_function)\n",
    "\n",
    "news_data.head()"
   ],
   "id": "2633f2d5df89fb11",
   "outputs": [
    {
     "data": {
      "text/plain": [
       "<Figure size 1200x400 with 1 Axes>"
      ],
      "image/png": "[encoded data removed]"
     },
     "metadata": {},
     "output_type": "display_data"
    },
    {
     "data": {
      "text/plain": [
       "   Label                                               News  \\\n",
       "0      0  georgia 'downs two russian warplanes' as count...   \n",
       "1      1  why wont america and nato help us? if they won...   \n",
       "2      0  remember that adorable 9-year-old who sang at ...   \n",
       "3      0   u.s. refuses israel weapons to attack iran: r...   \n",
       "4      1  all the experts admit that we should legalise ...   \n",
       "\n",
       "                                     tokenized  \n",
       "0  [input_ids, token_type_ids, attention_mask]  \n",
       "1  [input_ids, token_type_ids, attention_mask]  \n",
       "2  [input_ids, token_type_ids, attention_mask]  \n",
       "3  [input_ids, token_type_ids, attention_mask]  \n",
       "4  [input_ids, token_type_ids, attention_mask]  "
      ],
      "text/html": [
       "<div>\n",
       "<style scoped>\n",
       "    .dataframe tbody tr th:only-of-type {\n",
       "        vertical-align: middle;\n",
       "    }\n",
       "\n",
       "    .dataframe tbody tr th {\n",
       "        vertical-align: top;\n",
       "    }\n",
       "\n",
       "    .dataframe thead th {\n",
       "        text-align: right;\n",
       "    }\n",
       "</style>\n",
       "<table border=\"1\" class=\"dataframe\">\n",
       "  <thead>\n",
       "    <tr style=\"text-align: right;\">\n",
       "      <th></th>\n",
       "      <th>Label</th>\n",
       "      <th>News</th>\n",
       "      <th>tokenized</th>\n",
       "    </tr>\n",
       "  </thead>\n",
       "  <tbody>\n",
       "    <tr>\n",
       "      <th>0</th>\n",
       "      <td>0</td>\n",
       "      <td>georgia 'downs two russian warplanes' as count...</td>\n",
       "      <td>[input_ids, token_type_ids, attention_mask]</td>\n",
       "    </tr>\n",
       "    <tr>\n",
       "      <th>1</th>\n",
       "      <td>1</td>\n",
       "      <td>why wont america and nato help us? if they won...</td>\n",
       "      <td>[input_ids, token_type_ids, attention_mask]</td>\n",
       "    </tr>\n",
       "    <tr>\n",
       "      <th>2</th>\n",
       "      <td>0</td>\n",
       "      <td>remember that adorable 9-year-old who sang at ...</td>\n",
       "      <td>[input_ids, token_type_ids, attention_mask]</td>\n",
       "    </tr>\n",
       "    <tr>\n",
       "      <th>3</th>\n",
       "      <td>0</td>\n",
       "      <td>u.s. refuses israel weapons to attack iran: r...</td>\n",
       "      <td>[input_ids, token_type_ids, attention_mask]</td>\n",
       "    </tr>\n",
       "    <tr>\n",
       "      <th>4</th>\n",
       "      <td>1</td>\n",
       "      <td>all the experts admit that we should legalise ...</td>\n",
       "      <td>[input_ids, token_type_ids, attention_mask]</td>\n",
       "    </tr>\n",
       "  </tbody>\n",
       "</table>\n",
       "</div>"
      ]
     },
     "execution_count": 2,
     "metadata": {},
     "output_type": "execute_result"
    }
   ],
   "execution_count": 2
  },
  {
   "metadata": {
    "ExecuteTime": {
     "end_time": "2024-12-08T19:30:24.299525Z",
     "start_time": "2024-12-08T19:30:24.295884Z"
    }
   },
   "cell_type": "code",
   "source": [
    "import torch\n",
    "\n",
    "class SentimentDataset(torch.utils.data.Dataset):\n",
    "    def __init__(self, encodings, labels):\n",
    "        self.encodings = encodings\n",
    "        self.labels = labels\n",
    "\n",
    "    def __len__(self):\n",
    "        return len(self.encodings['input_ids'])\n",
    "\n",
    "    def __getitem__(self, idx):\n",
    "        item = {key: torch.tensor(val[idx]) for key, val in self.encodings.items()}\n",
    "        item['labels'] = torch.tensor(self.labels[idx])\n",
    "        return item"
   ],
   "id": "912178b85484ed9f",
   "outputs": [],
   "execution_count": 3
  },
  {
   "metadata": {
    "ExecuteTime": {
     "end_time": "2024-12-08T19:30:25.761315Z",
     "start_time": "2024-12-08T19:30:25.457223Z"
    }
   },
   "cell_type": "code",
   "source": [
    "from sklearn.model_selection import train_test_split\n",
    "\n",
    "# Split the dataset\n",
    "train_texts, temp_texts, train_labels, temp_labels = train_test_split(news_data['tokenized'].to_list(), news_data['Label'].to_list(), test_size=0.3, random_state=42)\n",
    "val_texts, test_texts, val_labels, test_labels = train_test_split(temp_texts, temp_labels, test_size=0.5, random_state=42)"
   ],
   "id": "be5b23f5236084e",
   "outputs": [],
   "execution_count": 4
  },
  {
   "metadata": {
    "ExecuteTime": {
     "end_time": "2024-12-08T19:30:26.685495Z",
     "start_time": "2024-12-08T19:30:26.654867Z"
    }
   },
   "cell_type": "code",
   "source": [
    "def convert_to_dicts(tokenized_texts):\n",
    "    input_ids = [d['input_ids'] for d in tokenized_texts]\n",
    "    attention_masks = [d['attention_mask'] for d in tokenized_texts]\n",
    "    return {'input_ids': input_ids, 'attention_mask': attention_masks}\n",
    "\n",
    "# Convert to lists of dictionaries\n",
    "train_encodings = convert_to_dicts(train_texts)\n",
    "val_encodings = convert_to_dicts(val_texts)\n",
    "test_encodings = convert_to_dicts(test_texts)\n",
    "\n",
    "# Create three dataset objects using the SentimentDataset\n",
    "train_dataset = SentimentDataset(train_encodings, train_labels)\n",
    "val_dataset = SentimentDataset(val_encodings, val_labels)\n",
    "test_dataset = SentimentDataset(test_encodings, test_labels)"
   ],
   "id": "4d7102efadb4bd91",
   "outputs": [],
   "execution_count": 5
  },
  {
   "metadata": {
    "ExecuteTime": {
     "end_time": "2024-12-08T19:35:11.206628Z",
     "start_time": "2024-12-08T19:35:10.423929Z"
    }
   },
   "cell_type": "code",
   "source": [
    "from transformers import BertForSequenceClassification, Trainer, TrainingArguments\n",
    "\n",
    "model = BertForSequenceClassification.from_pretrained('bert-base-uncased', num_labels=2)\n",
    "\n",
    "model.to('cuda')"
   ],
   "id": "1e6a0d737ebc63e3",
   "outputs": [
    {
     "name": "stderr",
     "output_type": "stream",
     "text": [
      "Some weights of BertForSequenceClassification were not initialized from the model checkpoint at bert-base-uncased and are newly initialized: ['classifier.bias', 'classifier.weight']\n",
      "You should probably TRAIN this model on a down-stream task to be able to use it for predictions and inference.\n"
     ]
    },
    {
     "data": {
      "text/plain": [
       "BertForSequenceClassification(\n",
       "  (bert): BertModel(\n",
       "    (embeddings): BertEmbeddings(\n",
       "      (word_embeddings): Embedding(30522, 768, padding_idx=0)\n",
       "      (position_embeddings): Embedding(512, 768)\n",
       "      (token_type_embeddings): Embedding(2, 768)\n",
       "      (LayerNorm): LayerNorm((768,), eps=1e-12, elementwise_affine=True)\n",
       "      (dropout): Dropout(p=0.1, inplace=False)\n",
       "    )\n",
       "    (encoder): BertEncoder(\n",
       "      (layer): ModuleList(\n",
       "        (0-11): 12 x BertLayer(\n",
       "          (attention): BertAttention(\n",
       "            (self): BertSdpaSelfAttention(\n",
       "              (query): Linear(in_features=768, out_features=768, bias=True)\n",
       "              (key): Linear(in_features=768, out_features=768, bias=True)\n",
       "              (value): Linear(in_features=768, out_features=768, bias=True)\n",
       "              (dropout): Dropout(p=0.1, inplace=False)\n",
       "            )\n",
       "            (output): BertSelfOutput(\n",
       "              (dense): Linear(in_features=768, out_features=768, bias=True)\n",
       "              (LayerNorm): LayerNorm((768,), eps=1e-12, elementwise_affine=True)\n",
       "              (dropout): Dropout(p=0.1, inplace=False)\n",
       "            )\n",
       "          )\n",
       "          (intermediate): BertIntermediate(\n",
       "            (dense): Linear(in_features=768, out_features=3072, bias=True)\n",
       "            (intermediate_act_fn): GELUActivation()\n",
       "          )\n",
       "          (output): BertOutput(\n",
       "            (dense): Linear(in_features=3072, out_features=768, bias=True)\n",
       "            (LayerNorm): LayerNorm((768,), eps=1e-12, elementwise_affine=True)\n",
       "            (dropout): Dropout(p=0.1, inplace=False)\n",
       "          )\n",
       "        )\n",
       "      )\n",
       "    )\n",
       "    (pooler): BertPooler(\n",
       "      (dense): Linear(in_features=768, out_features=768, bias=True)\n",
       "      (activation): Tanh()\n",
       "    )\n",
       "  )\n",
       "  (dropout): Dropout(p=0.1, inplace=False)\n",
       "  (classifier): Linear(in_features=768, out_features=2, bias=True)\n",
       ")"
      ]
     },
     "execution_count": 12,
     "metadata": {},
     "output_type": "execute_result"
    }
   ],
   "execution_count": 12
  },
  {
   "metadata": {
    "ExecuteTime": {
     "end_time": "2024-12-08T19:35:57.019493Z",
     "start_time": "2024-12-08T19:35:56.957275Z"
    }
   },
   "cell_type": "code",
   "source": [
    "\n",
    "from transformers import TrainingArguments\n",
    "\n",
    "training_args = TrainingArguments(\n",
    "    output_dir='./results', # All files generated during training will be stored here\n",
    "    num_train_epochs=3, # The model will be trained for 3 full epochs unless the step limit (max_steps) is reached first\n",
    "    per_device_train_batch_size=32, # Training batch size per device (GPU or CPU).\n",
    "    per_device_eval_batch_size=32, # Evaluation batch size per device (GPU or CPU).\n",
    "    warmup_steps=10, # Number of warm-up steps during which the learning rate gradually increases to its initial value\n",
    "    weight_decay=0.01, # Weight decay rate: this technique helps to avoid overfitting, penalizing large weights in the neural network\n",
    "    logging_dir='./logs', # Directory where training logs will be stored\n",
    "    #max_steps=10,  # Maximum number of training steps to be performed\n",
    "    save_steps=10,  # Range of steps after which the model will be saved\n",
    "    logging_steps=10,  # Range of steps after which log information will be recorded\n",
    ")"
   ],
   "id": "1a32d7baf6a6d8e",
   "outputs": [],
   "execution_count": 16
  },
  {
   "metadata": {},
   "cell_type": "code",
   "source": [
    "trainer = Trainer(\n",
    "    model=model, # The pre-trained model that you want to fine-tune or train\n",
    "    args=training_args, # The training arguments that specify the configurations for the training process\n",
    "    train_dataset=train_dataset, # The dataset used for training the model\n",
    "    eval_dataset=val_dataset # The dataset used for evaluating the model during training\n",
    ")\n",
    "\n",
    "# Start training\n",
    "trainer.train()"
   ],
   "id": "86e3304148331c43",
   "outputs": [],
   "execution_count": null
  },
  {
   "metadata": {
    "ExecuteTime": {
     "end_time": "2024-12-08T19:52:22.928408Z",
     "start_time": "2024-12-08T19:52:12.393263Z"
    }
   },
   "cell_type": "code",
   "source": [
    "results = trainer.evaluate(test_dataset)\n",
    "\n",
    "print(\"Evaluation Results:\")\n",
    "print(f\"  - Loss: {results['eval_loss']:.4f}\")\n",
    "print(f\"  - Runtime: {results['eval_runtime']:.2f} seconds\")\n",
    "print(f\"  - Samples per Second: {results['eval_samples_per_second']:.2f}\")\n",
    "print(f\"  - Steps per Second: {results['eval_steps_per_second']:.2f}\")\n",
    "print(f\"  - Epoch: {results['epoch']:.4f}\")"
   ],
   "id": "617eb6da527da648",
   "outputs": [
    {
     "data": {
      "text/plain": [
       "<IPython.core.display.HTML object>"
      ],
      "text/html": [
       "\n",
       "    <div>\n",
       "      \n",
       "      <progress value='234' max='234' style='width:300px; height:20px; vertical-align: middle;'></progress>\n",
       "      [234/234 00:10]\n",
       "    </div>\n",
       "    "
      ]
     },
     "metadata": {},
     "output_type": "display_data"
    },
    {
     "name": "stdout",
     "output_type": "stream",
     "text": [
      "Evaluation Results:\n",
      "  - Loss: 0.6903\n",
      "  - Runtime: 10.52 seconds\n",
      "  - Samples per Second: 708.75\n",
      "  - Steps per Second: 22.24\n",
      "  - Epoch: 3.0000\n"
     ]
    }
   ],
   "execution_count": 18
  },
  {
   "metadata": {
    "ExecuteTime": {
     "end_time": "2024-12-08T19:52:44.569343Z",
     "start_time": "2024-12-08T19:52:44.288313Z"
    }
   },
   "cell_type": "code",
   "source": [
    "# Save the model and tokenizer in the current folder\n",
    "model_save_path = \"./\"\n",
    "trainer.save_model(model_save_path)\n",
    "tokenizer.save_pretrained(model_save_path)"
   ],
   "id": "7c2f7c2b23f2fee2",
   "outputs": [
    {
     "data": {
      "text/plain": [
       "('./tokenizer_config.json',\n",
       " './special_tokens_map.json',\n",
       " './vocab.txt',\n",
       " './added_tokens.json')"
      ]
     },
     "execution_count": 19,
     "metadata": {},
     "output_type": "execute_result"
    }
   ],
   "execution_count": 19
  },
  {
   "metadata": {
    "ExecuteTime": {
     "end_time": "2024-12-08T19:57:30.983763Z",
     "start_time": "2024-12-08T19:57:30.971019Z"
    }
   },
   "cell_type": "code",
   "source": [
    "def predict_sentiment(text):\n",
    "\n",
    "    \n",
    "    inputs = tokenizer(text, return_tensors='pt', padding=True, truncation=True, max_length=128)\n",
    "    inputs.to('cuda')\n",
    "    outputs = model(**inputs)\n",
    "    predictions = torch.nn.functional.softmax(outputs.logits, dim=-1)\n",
    "    predicted_class = torch.argmax(predictions, dim=1).item()\n",
    "    sentiment = {0: 'DJIA will decrease', 1: 'DJIA will increase'}\n",
    "    return sentiment[predicted_class]\n",
    "\n",
    "# Example prediction\n",
    "example_text = \"impeached\"\n",
    "predicted_sentiment = predict_sentiment(example_text)\n",
    "print(f\"Predicted Sentiment: {predicted_sentiment}\")"
   ],
   "id": "a2944a38da7535a1",
   "outputs": [
    {
     "name": "stdout",
     "output_type": "stream",
     "text": [
      "Predicted Sentiment: DJIA will increase\n"
     ]
    }
   ],
   "execution_count": 35
  }
 ],
 "metadata": {
  "kernelspec": {
   "display_name": "Python 3",
   "language": "python",
   "name": "python3"
  },
  "language_info": {
   "codemirror_mode": {
    "name": "ipython",
    "version": 2
   },
   "file_extension": ".py",
   "mimetype": "text/x-python",
   "name": "python",
   "nbconvert_exporter": "python",
   "pygments_lexer": "ipython2",
   "version": "2.7.6"
  }
 },
 "nbformat": 4,
 "nbformat_minor": 5
}
